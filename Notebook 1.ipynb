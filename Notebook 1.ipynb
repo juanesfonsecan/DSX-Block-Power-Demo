{
    "metadata": {
        "kernelspec": {
            "language": "R", 
            "display_name": "R with Spark 2.1", 
            "name": "r-spark21"
        }, 
        "language_info": {
            "version": "3.3.2", 
            "name": "R", 
            "codemirror_mode": "r", 
            "mimetype": "text/x-r-source", 
            "pygments_lexer": "r", 
            "file_extension": ".r"
        }
    }, 
    "nbformat": 4, 
    "cells": [
        {
            "execution_count": 1, 
            "metadata": {}, 
            "cell_type": "code", 
            "outputs": [
                {
                    "output_type": "stream", 
                    "name": "stderr", 
                    "text": "Loading required package: httr\nLoading required package: RCurl\nLoading required package: bitops\n\nAttaching package: \u2018RCurl\u2019\n\nThe following object is masked from \u2018package:SparkR\u2019:\n\n    base64\n\nNo encoding supplied: defaulting to UTF-8.\n"
                }, 
                {
                    "metadata": {}, 
                    "output_type": "display_data", 
                    "data": {
                        "text/html": "<table>\n<thead><tr><th scope=col>X.head.</th></tr></thead>\n<tbody>\n\t<tr><td><span style=white-space:pre-wrap>&lt;title&gt;Error response&lt;/title&gt;                                                                                                              </span></td></tr>\n\t<tr><td><span style=white-space:pre-wrap>&lt;/head&gt;                                                                                                                                    </span></td></tr>\n\t<tr><td><span style=white-space:pre-wrap>&lt;body&gt;                                                                                                                                     </span></td></tr>\n\t<tr><td><span style=white-space:pre-wrap>&lt;h1&gt;Error response&lt;/h1&gt;                                                                                                                    </span></td></tr>\n\t<tr><td><span style=white-space:pre-wrap>&lt;p&gt;Error code 400.                                                                                                                         </span></td></tr>\n\t<tr><td>&lt;p&gt;Message: Bad request syntax ('GET /v1/AUTH_03a4ff1782814236b8241e01c0f284fb/ProyectodePrueba/BASE DE DATOS PLANA HOMBRES.csv HTTP/1.1').</td></tr>\n</tbody>\n</table>\n", 
                        "text/latex": "\\begin{tabular}{r|l}\n X.head.\\\\\n\\hline\n\t <title>Error response</title>                                                                                                              \\\\\n\t </head>                                                                                                                                    \\\\\n\t <body>                                                                                                                                     \\\\\n\t <h1>Error response</h1>                                                                                                                    \\\\\n\t <p>Error code 400.                                                                                                                         \\\\\n\t <p>Message: Bad request syntax ('GET /v1/AUTH\\_03a4ff1782814236b8241e01c0f284fb/ProyectodePrueba/BASE DE DATOS PLANA HOMBRES.csv HTTP/1.1').\\\\\n\\end{tabular}\n", 
                        "text/plain": "  X.head.                                                                                                                                    \n1 <title>Error response</title>                                                                                                              \n2 </head>                                                                                                                                    \n3 <body>                                                                                                                                     \n4 <h1>Error response</h1>                                                                                                                    \n5 <p>Error code 400.                                                                                                                         \n6 <p>Message: Bad request syntax ('GET /v1/AUTH_03a4ff1782814236b8241e01c0f284fb/ProyectodePrueba/BASE DE DATOS PLANA HOMBRES.csv HTTP/1.1')."
                    }
                }
            ], 
            "source": "# The code was removed by DSX for sharing."
        }, 
        {
            "execution_count": 3, 
            "metadata": {
                "collapsed": true
            }, 
            "cell_type": "code", 
            "outputs": [], 
            "source": "vector_a<-c(1:6)"
        }, 
        {
            "execution_count": 4, 
            "metadata": {}, 
            "cell_type": "code", 
            "outputs": [
                {
                    "metadata": {}, 
                    "output_type": "display_data", 
                    "data": {
                        "text/html": "<ol class=list-inline>\n\t<li>1</li>\n\t<li>2</li>\n\t<li>3</li>\n\t<li>4</li>\n\t<li>5</li>\n\t<li>6</li>\n</ol>\n", 
                        "text/markdown": "1. 1\n2. 2\n3. 3\n4. 4\n5. 5\n6. 6\n\n\n", 
                        "text/latex": "\\begin{enumerate*}\n\\item 1\n\\item 2\n\\item 3\n\\item 4\n\\item 5\n\\item 6\n\\end{enumerate*}\n", 
                        "text/plain": "[1] 1 2 3 4 5 6"
                    }
                }
            ], 
            "source": "vector_a"
        }
    ], 
    "nbformat_minor": 1
}